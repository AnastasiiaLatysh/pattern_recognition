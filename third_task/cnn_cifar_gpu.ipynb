{
  "nbformat": 4,
  "nbformat_minor": 0,
  "metadata": {
    "colab": {
      "name": "Untitled2.ipynb",
      "provenance": []
    },
    "kernelspec": {
      "name": "python3",
      "display_name": "Python 3"
    },
    "accelerator": "GPU"
  },
  "cells": [
    {
      "cell_type": "code",
      "metadata": {
        "id": "C9XArtLCbtXf",
        "colab_type": "code",
        "colab": {}
      },
      "source": [
        "import numpy as np\n",
        "from keras import Sequential\n",
        "from keras.datasets import cifar10\n",
        "from keras.layers import Conv2D, Flatten, Dense, MaxPooling2D\n",
        "from keras.utils import np_utils\n",
        "\n",
        "\n",
        "# Declare variables\n",
        "batch_size = 32\n",
        "num_classes = 10\n",
        "epochs = 100\n",
        "\n",
        "# load data\n",
        "(x_train, y_train), (x_test, y_test) = cifar10.load_data()\n",
        "\n",
        "# Convert and pre-processing\n",
        "x_train = x_train.reshape(x_train.shape[0], 3, 32, 32).astype('float32')\n",
        "x_test = x_test.reshape(x_test.shape[0], 3, 32, 32).astype('float32')\n",
        "x_train = x_train / 255\n",
        "x_test = x_test / 255\n",
        "y_train = np_utils.to_categorical(y_train, num_classes)\n",
        "y_test = np_utils.to_categorical(y_test, num_classes)\n",
        "\n",
        "\n",
        "# Define model\n",
        "model = Sequential()\n",
        "\n",
        "# First hidden layer\n",
        "model.add(Conv2D(filters=32, kernel_size=(3, 3), input_shape=(3, 32, 32), activation='relu', padding='same'))\n",
        "\n",
        "# Pooling layer\n",
        "model.add(MaxPooling2D(pool_size=(2, 2)))\n",
        "\n",
        "# Flattening layer\n",
        "model.add(Flatten())\n",
        "\n",
        "# Fully connected layer\n",
        "model.add(Dense(units=512, activation='relu'))\n",
        "\n",
        "# Output layer\n",
        "model.add(Dense(units=num_classes, activation='softmax'))\n",
        "\n",
        "# compile model\n",
        "model.compile(loss='categorical_crossentropy', optimizer='adam', metrics=['accuracy'])\n",
        "model.summary()\n",
        "\n",
        "# Fit model\n",
        "cnn = model.fit(x_train, y_train, batch_size=batch_size, epochs=epochs, validation_data=(x_test, y_test), shuffle=True)\n",
        "\n",
        "\n",
        "# Evaluate model\n",
        "score = model.evaluate(x_test, y_test, verbose=0)\n",
        "print('Test loss:', score[0])\n",
        "print('Test accuracy:', score[1])\n"
      ],
      "execution_count": 0,
      "outputs": []
    }
  ]
}